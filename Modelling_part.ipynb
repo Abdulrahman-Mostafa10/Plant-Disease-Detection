{
 "cells": [
  {
   "cell_type": "code",
   "execution_count": 13,
   "metadata": {},
   "outputs": [],
   "source": [
    "import numpy as np\n",
    "import matplotlib.pyplot as plt\n",
    "plt.style.use('dark_background')\n",
    "import os\n",
    "import pandas as pd\n",
    "from sklearn.decomposition import PCA\n",
    "from sklearn.feature_selection import SelectKBest, f_classif\n",
    "from sklearn.preprocessing import StandardScaler\n",
    "from sklearn.pipeline import Pipeline\n"
   ]
  },
  {
   "cell_type": "code",
   "execution_count": 7,
   "metadata": {},
   "outputs": [],
   "source": [
    "folder_path = \"./Features\"\n",
    "\n",
    "\n",
    "dataframes = {}\n",
    "\n",
    "\n",
    "for file in os.listdir(folder_path):\n",
    "    if file.endswith(\".csv\"):  \n",
    "        \n",
    "        df_name = os.path.splitext(file)[0].replace(\" \", \"_\").replace(\"-\", \"_\")\n",
    "      \n",
    "        file_path = os.path.join(folder_path, file)\n",
    "        df = pd.read_csv(file_path)\n",
    "  \n",
    "        dataframes[df_name] = df\n",
    "        \n",
    "       \n",
    "        # print(f\"Loaded DataFrame: {df_name}\")\n",
    "        # print(df.head(), \"\\n\")  \n",
    "\n",
    "gabour_df = dataframes[\"gabor_features\"]  \n",
    "glcm_df = dataframes[\"glcm_features\"]  \n",
    "hsv_df =  dataframes[\"hsv_features\"]  \n",
    "lbp_df =  dataframes[\"lbp_features\"]  \n",
    "rgb_df =  dataframes[\"rgb_features\"] "
   ]
  },
  {
   "cell_type": "code",
   "execution_count": null,
   "metadata": {},
   "outputs": [
    {
     "data": {
      "text/plain": [
       "(1251, 41)"
      ]
     },
     "execution_count": 15,
     "metadata": {},
     "output_type": "execute_result"
    }
   ],
   "source": [
    "# gabour_df.shape"
   ]
  },
  {
   "cell_type": "code",
   "execution_count": 20,
   "metadata": {},
   "outputs": [
    {
     "data": {
      "text/html": [
       "<div>\n",
       "<style scoped>\n",
       "    .dataframe tbody tr th:only-of-type {\n",
       "        vertical-align: middle;\n",
       "    }\n",
       "\n",
       "    .dataframe tbody tr th {\n",
       "        vertical-align: top;\n",
       "    }\n",
       "\n",
       "    .dataframe thead th {\n",
       "        text-align: right;\n",
       "    }\n",
       "</style>\n",
       "<table border=\"1\" class=\"dataframe\">\n",
       "  <thead>\n",
       "    <tr style=\"text-align: right;\">\n",
       "      <th></th>\n",
       "      <th>contrast</th>\n",
       "      <th>dissimilarity</th>\n",
       "      <th>homogeneity</th>\n",
       "      <th>asm</th>\n",
       "      <th>energy</th>\n",
       "      <th>correlation</th>\n",
       "      <th>label</th>\n",
       "    </tr>\n",
       "  </thead>\n",
       "  <tbody>\n",
       "    <tr>\n",
       "      <th>0</th>\n",
       "      <td>9.812677</td>\n",
       "      <td>1.739312</td>\n",
       "      <td>0.497256</td>\n",
       "      <td>0.000717</td>\n",
       "      <td>0.026780</td>\n",
       "      <td>0.998680</td>\n",
       "      <td>0</td>\n",
       "    </tr>\n",
       "    <tr>\n",
       "      <th>1</th>\n",
       "      <td>4.849220</td>\n",
       "      <td>1.125540</td>\n",
       "      <td>0.640906</td>\n",
       "      <td>0.001756</td>\n",
       "      <td>0.041907</td>\n",
       "      <td>0.999341</td>\n",
       "      <td>0</td>\n",
       "    </tr>\n",
       "    <tr>\n",
       "      <th>2</th>\n",
       "      <td>38.921964</td>\n",
       "      <td>2.494972</td>\n",
       "      <td>0.607272</td>\n",
       "      <td>0.065789</td>\n",
       "      <td>0.256494</td>\n",
       "      <td>0.997989</td>\n",
       "      <td>0</td>\n",
       "    </tr>\n",
       "    <tr>\n",
       "      <th>3</th>\n",
       "      <td>11.580490</td>\n",
       "      <td>1.394375</td>\n",
       "      <td>0.651229</td>\n",
       "      <td>0.017692</td>\n",
       "      <td>0.133011</td>\n",
       "      <td>0.999377</td>\n",
       "      <td>0</td>\n",
       "    </tr>\n",
       "    <tr>\n",
       "      <th>4</th>\n",
       "      <td>6.401939</td>\n",
       "      <td>1.502393</td>\n",
       "      <td>0.528658</td>\n",
       "      <td>0.001219</td>\n",
       "      <td>0.034914</td>\n",
       "      <td>0.998840</td>\n",
       "      <td>0</td>\n",
       "    </tr>\n",
       "  </tbody>\n",
       "</table>\n",
       "</div>"
      ],
      "text/plain": [
       "    contrast  dissimilarity  homogeneity       asm    energy  correlation  \\\n",
       "0   9.812677       1.739312     0.497256  0.000717  0.026780     0.998680   \n",
       "1   4.849220       1.125540     0.640906  0.001756  0.041907     0.999341   \n",
       "2  38.921964       2.494972     0.607272  0.065789  0.256494     0.997989   \n",
       "3  11.580490       1.394375     0.651229  0.017692  0.133011     0.999377   \n",
       "4   6.401939       1.502393     0.528658  0.001219  0.034914     0.998840   \n",
       "\n",
       "   label  \n",
       "0      0  \n",
       "1      0  \n",
       "2      0  \n",
       "3      0  \n",
       "4      0  "
      ]
     },
     "execution_count": 20,
     "metadata": {},
     "output_type": "execute_result"
    }
   ],
   "source": [
    "glcm_df.head()"
   ]
  },
  {
   "cell_type": "code",
   "execution_count": 16,
   "metadata": {},
   "outputs": [
    {
     "data": {
      "text/plain": [
       "(6610, 769)"
      ]
     },
     "execution_count": 16,
     "metadata": {},
     "output_type": "execute_result"
    }
   ],
   "source": [
    "hsv_df.shape"
   ]
  },
  {
   "cell_type": "code",
   "execution_count": 18,
   "metadata": {},
   "outputs": [
    {
     "data": {
      "text/plain": [
       "(6610, 257)"
      ]
     },
     "execution_count": 18,
     "metadata": {},
     "output_type": "execute_result"
    }
   ],
   "source": [
    "lbp_df.shape"
   ]
  },
  {
   "cell_type": "code",
   "execution_count": 19,
   "metadata": {},
   "outputs": [
    {
     "data": {
      "text/plain": [
       "(6610, 769)"
      ]
     },
     "execution_count": 19,
     "metadata": {},
     "output_type": "execute_result"
    }
   ],
   "source": [
    "rgb_df.shape"
   ]
  },
  {
   "cell_type": "code",
   "execution_count": null,
   "metadata": {},
   "outputs": [],
   "source": []
  }
 ],
 "metadata": {
  "kernelspec": {
   "display_name": "base",
   "language": "python",
   "name": "python3"
  },
  "language_info": {
   "codemirror_mode": {
    "name": "ipython",
    "version": 3
   },
   "file_extension": ".py",
   "mimetype": "text/x-python",
   "name": "python",
   "nbconvert_exporter": "python",
   "pygments_lexer": "ipython3",
   "version": "3.12.3"
  }
 },
 "nbformat": 4,
 "nbformat_minor": 2
}
